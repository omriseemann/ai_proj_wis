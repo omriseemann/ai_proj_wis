{
  "nbformat": 4,
  "nbformat_minor": 0,
  "metadata": {
    "colab": {
      "name": "Prepare_Trained_Solver.ipynb",
      "version": "0.3.2",
      "provenance": [],
      "collapsed_sections": []
    },
    "kernelspec": {
      "name": "python3",
      "display_name": "Python 3"
    }
  },
  "cells": [
    {
      "cell_type": "code",
      "metadata": {
        "id": "6a969gBgwrvs",
        "colab_type": "code",
        "outputId": "5978b432-086a-4cdf-d232-a0099285f402",
        "colab": {
          "base_uri": "https://localhost:8080/",
          "height": 136
        }
      },
      "source": [
        "!pip install captcha"
      ],
      "execution_count": 0,
      "outputs": [
        {
          "output_type": "stream",
          "text": [
            "Collecting captcha\n",
            "\u001b[?25l  Downloading https://files.pythonhosted.org/packages/90/fe/d4ddf1e6576073b5eaea76e9b2afa022c626212a30c871968480be3ccb7b/captcha-0.3-py3-none-any.whl (101kB)\n",
            "\u001b[K     |████████████████████████████████| 102kB 2.5MB/s \n",
            "\u001b[?25hRequirement already satisfied: Pillow in /usr/local/lib/python3.6/dist-packages (from captcha) (4.3.0)\n",
            "Requirement already satisfied: olefile in /usr/local/lib/python3.6/dist-packages (from Pillow->captcha) (0.46)\n",
            "Installing collected packages: captcha\n",
            "Successfully installed captcha-0.3\n"
          ],
          "name": "stdout"
        }
      ]
    },
    {
      "cell_type": "code",
      "metadata": {
        "id": "bsA2YnM3w13q",
        "colab_type": "code",
        "colab": {}
      },
      "source": [
        "from capcha_gen import CaptchaGenOSFixed\n",
        "from models import ResModule, CNNModule\n",
        "from learner import LearnerGenerative\n",
        "\n",
        "gen = CaptchaGenOSFixed()\n",
        "I, t = gen.generateBatch(2)\n",
        "a = gen.lossBatch(t, t)\n",
        "learner = LearnerGenerative(gen, ResModule)\n",
        "learner.save_params['name'] = 'Trained_Solver'\n",
        "learner.reset(lr_start=1e-3)\n",
        "learner.load()\n",
        "o = learner.model(I)\n",
        "learner.learn(2000, 10)\n",
        "learner.save()\n",
        "learner.plot()\n",
        "learner.learn(1000, 20)\n",
        "learner.save()\n",
        "learner.plot()\n"
      ],
      "execution_count": 0,
      "outputs": []
    },
    {
      "cell_type": "code",
      "metadata": {
        "id": "D0ImoLZzAEWb",
        "colab_type": "code",
        "colab": {}
      },
      "source": [
        "learner.learn(500, 50)\n",
        "learner.save()\n",
        "learner.plot()\n",
        "learner.learn(200, 100)\n",
        "learner.save()\n",
        "learner.plot()\n",
        "learner.learn(100, 200)\n",
        "learner.save()\n",
        "learner.plot()"
      ],
      "execution_count": 0,
      "outputs": []
    },
    {
      "cell_type": "code",
      "metadata": {
        "id": "mv2hyz_f1p2L",
        "colab_type": "code",
        "outputId": "6508e8ce-e4db-4742-e343-c8c345a33f83",
        "colab": {
          "base_uri": "https://localhost:8080/",
          "height": 269
        }
      },
      "source": [
        "learner.plot()"
      ],
      "execution_count": 0,
      "outputs": [
        {
          "output_type": "display_data",
          "data": {
            "image/png": "[encoded data removed]",
            "text/plain": [
              "<Figure size 432x288 with 1 Axes>"
            ]
          },
          "metadata": {
            "tags": []
          }
        }
      ]
    },
    {
      "cell_type": "code",
      "metadata": {
        "id": "mcrC4NaF1tS6",
        "colab_type": "code",
        "colab": {}
      },
      "source": [
        "I, t = gen.generateBatch(2)\n",
        "o = learner.model(I)\n"
      ],
      "execution_count": 0,
      "outputs": []
    },
    {
      "cell_type": "code",
      "metadata": {
        "id": "nOMRERtW2ALy",
        "colab_type": "code",
        "colab": {}
      },
      "source": [
        "output_string = []\n",
        "target_string = []\n",
        "\n",
        "for i in range(100):\n",
        "  I, t = gen.generateBatch(100)\n",
        "  o = learner.model(I)\n",
        "  output_string.append(''.join([gen.tensor_to_string(x) for x in o]))\n",
        "  target_string.append(''.join([gen.tensor_to_string(x) for x in t]))\n",
        "  print(i)\n"
      ],
      "execution_count": 0,
      "outputs": []
    },
    {
      "cell_type": "code",
      "metadata": {
        "id": "OpKUehFd8gc3",
        "colab_type": "code",
        "colab": {}
      },
      "source": [
        "output_chars = ''.join(output_string)\n",
        "target_chars = ''.join(target_string)"
      ],
      "execution_count": 0,
      "outputs": []
    },
    {
      "cell_type": "code",
      "metadata": {
        "id": "NRmwbH92_kU6",
        "colab_type": "code",
        "colab": {}
      },
      "source": [
        "import numpy as np\n",
        "conf_mat = np.zeros((52,52))\n",
        "for i in range(len(output_chars)):\n",
        "  row = int(gen.string_to_index_list(output_chars[i]))\n",
        "  col = int(gen.string_to_index_list(target_chars[i]))            \n",
        "  conf_mat[row][col] += 1"
      ],
      "execution_count": 0,
      "outputs": []
    },
    {
      "cell_type": "code",
      "metadata": {
        "id": "PP3quvV2AMNQ",
        "colab_type": "code",
        "outputId": "67e91129-3998-49b6-8af4-b6bb0da38748",
        "colab": {
          "base_uri": "https://localhost:8080/",
          "height": 286
        }
      },
      "source": [
        "import matplotlib.pylab as plt\n",
        "plt.imshow(conf_mat)"
      ],
      "execution_count": 0,
      "outputs": [
        {
          "output_type": "execute_result",
          "data": {
            "text/plain": [
              "<matplotlib.image.AxesImage at 0x7f81451c9fd0>"
            ]
          },
          "metadata": {
            "tags": []
          },
          "execution_count": 63
        },
        {
          "output_type": "display_data",
          "data": {
            "image/png": "[encoded data removed]",
            "text/plain": [
              "<Figure size 432x288 with 1 Axes>"
            ]
          },
          "metadata": {
            "tags": []
          }
        }
      ]
    },
    {
      "cell_type": "code",
      "metadata": {
        "id": "3gbWDXFYKxbb",
        "colab_type": "code",
        "outputId": "bcf3a65f-11c4-4d63-bf5d-b04fdf3f1137",
        "colab": {
          "base_uri": "https://localhost:8080/",
          "height": 34
        }
      },
      "source": [
        "np.trace(conf_mat)/sum(sum(conf_mat))"
      ],
      "execution_count": 0,
      "outputs": [
        {
          "output_type": "execute_result",
          "data": {
            "text/plain": [
              "0.9378166666666666"
            ]
          },
          "metadata": {
            "tags": []
          },
          "execution_count": 66
        }
      ]
    },
    {
      "cell_type": "code",
      "metadata": {
        "id": "H3XTEqNMK7yz",
        "colab_type": "code",
        "colab": {}
      },
      "source": [
        "test = np.zeros(52)\n",
        "for i in range(52):\n",
        "  for j in range(52):\n",
        "    test[np.abs(i-j)] += conf_mat[i][j]\n"
      ],
      "execution_count": 0,
      "outputs": []
    },
    {
      "cell_type": "code",
      "metadata": {
        "id": "uLGgNJ6fLW2V",
        "colab_type": "code",
        "outputId": "cf6872c1-3656-4ddf-b58a-96e9b1f8b892",
        "colab": {
          "base_uri": "https://localhost:8080/",
          "height": 286
        }
      },
      "source": [
        "plt.plot(test[1:])"
      ],
      "execution_count": 0,
      "outputs": [
        {
          "output_type": "execute_result",
          "data": {
            "text/plain": [
              "[<matplotlib.lines.Line2D at 0x7f81451a8400>]"
            ]
          },
          "metadata": {
            "tags": []
          },
          "execution_count": 58
        },
        {
          "output_type": "display_data",
          "data": {
            "image/png": "[encoded data removed]",
            "text/plain": [
              "<Figure size 432x288 with 1 Axes>"
            ]
          },
          "metadata": {
            "tags": []
          }
        }
      ]
    },
    {
      "cell_type": "code",
      "metadata": {
        "id": "iN2A901KLf25",
        "colab_type": "code",
        "outputId": "9f35d231-e833-49c7-ae05-3ca90a791a97",
        "colab": {
          "base_uri": "https://localhost:8080/",
          "height": 34
        }
      },
      "source": [
        "conf_mat2 = np.zeros((52,52))\n",
        "for i in range(len(output_chars)):\n",
        "  row = int(gen.string_to_index_list(output_chars[i]))\n",
        "  col = int(gen.string_to_index_list(target_chars[i]))            \n",
        "  if np.abs(row-col) != 26:\n",
        "    conf_mat2[row][col] += 1\n",
        "np.trace(conf_mat2)/sum(sum(conf_mat2))"
      ],
      "execution_count": 0,
      "outputs": [
        {
          "output_type": "execute_result",
          "data": {
            "text/plain": [
              "0.9728220466451133"
            ]
          },
          "metadata": {
            "tags": []
          },
          "execution_count": 67
        }
      ]
    },
    {
      "cell_type": "code",
      "metadata": {
        "id": "p7n160SfMJIA",
        "colab_type": "code",
        "outputId": "0d896aca-693a-49b6-e0e0-f2474664577b",
        "colab": {
          "base_uri": "https://localhost:8080/",
          "height": 286
        }
      },
      "source": [
        "test2 = np.zeros(52)\n",
        "for i in range(52):\n",
        "  for j in range(52):\n",
        "    test2[np.abs(i-j)] += conf_mat2[i][j]\n",
        "plt.plot(test2[1:])"
      ],
      "execution_count": 0,
      "outputs": [
        {
          "output_type": "execute_result",
          "data": {
            "text/plain": [
              "[<matplotlib.lines.Line2D at 0x7f814260d400>]"
            ]
          },
          "metadata": {
            "tags": []
          },
          "execution_count": 69
        },
        {
          "output_type": "display_data",
          "data": {
            "image/png": "[encoded data removed]",
            "text/plain": [
              "<Figure size 432x288 with 1 Axes>"
            ]
          },
          "metadata": {
            "tags": []
          }
        }
      ]
    }
  ]
}